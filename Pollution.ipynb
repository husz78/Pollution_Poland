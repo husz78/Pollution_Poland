{
 "cells": [
  {
   "cell_type": "markdown",
   "id": "b91f9164-a59f-427c-9338-285659e17f54",
   "metadata": {},
   "source": [
    "# Visualization of pollution levels in Poland"
   ]
  },
  {
   "cell_type": "code",
   "execution_count": null,
   "id": "05cf97e2-f0fb-4bc8-bc7c-04b5ee4e7672",
   "metadata": {},
   "outputs": [],
   "source": [
    "import pandas as pd\n",
    "import matplotlib.pyplot as plt\n",
    "import numpy as np\n",
    "import seaborn as sns"
   ]
  },
  {
   "cell_type": "code",
   "execution_count": null,
   "id": "fef5ab71-2264-4a4b-a2cd-7500cf98fecb",
   "metadata": {},
   "outputs": [],
   "source": [
    "df = pd.read_csv(\"Stats_2000-2023.csv\", header = 0, skiprows = [1], encoding=\"ansi\", delimiter=\";\")\n",
    "\n",
    "df = df.loc[df[\"Czas uśredniania\"] == \"24g\"] # We only select the 24-hour measurement interval\n",
    "df = df.loc[df[\"Rok\"] >= 2010] # We only select data from 2010 onwards\n"
   ]
  },
  {
   "cell_type": "markdown",
   "id": "5e4f09cc-788f-477c-8077-62f6b48572de",
   "metadata": {},
   "source": [
    "We want to select two stations that have data for each year in the range [2010; 2023]"
   ]
  },
  {
   "cell_type": "code",
   "execution_count": null,
   "id": "00768552-8cb8-43f3-8da5-25e757515129",
   "metadata": {},
   "outputs": [],
   "source": [
    "# pv = pd.pivot_table(df, index = \"Station Code\", columns = \"Year\", values = \"Indicator\", aggfunc = \"count\")\n",
    "# pv"
   ]
  },
  {
   "cell_type": "markdown",
   "id": "6623eda9-83d3-4cf7-9d63-821fd1ecbe3e",
   "metadata": {},
   "source": [
    "We found the following: \n",
    "- DsOsieczow21\n",
    "- DsWalbrzWyso"
   ]
  },
  {
   "cell_type": "code",
   "execution_count": null,
   "id": "0ae54e17-0177-4a82-801f-bd4ea5facb5a",
   "metadata": {},
   "outputs": [],
   "source": [
    "station1 = df[df[\"Kod stacji\"] == \"DsOsieczow21\"]\n",
    "station2 = df[df[\"Kod stacji\"] == \"DsWalbrzWyso\"]\n",
    "station1_measurement = station1.loc[:, \"Średnia\"].to_numpy().astype(str)\n",
    "station2_measurement = station2.loc[:, \"Średnia\"].to_numpy().astype(str)\n",
    "\n",
    "station1_measurement = np.char.replace(station1_measurement, ',', '.').astype(float)\n",
    "station2_measurement = np.char.replace(station2_measurement, ',', '.').astype(float)\n",
    "\n",
    "years = np.arange(start = 2010, stop = 2024)\n",
    "plt.plot(years, station1_measurement, label = \"DsOsieczow21\", color = \"blue\")\n",
    "plt.plot(years, station2_measurement, label = \"DsWalbrzWyso\", color = \"red\")\n",
    "\n",
    "plt.ylim(10, 30)\n",
    "plt.yticks(np.arange(10, 31, 2))\n",
    "\n",
    "plt.xlabel(\"Year\")\n",
    "plt.ylabel(\"Average PM2.5 concentration [µg/m3]\")\n",
    "plt.title(\"Average PM2.5 concentration at two stations over the years 2010-2023\")\n",
    "plt.legend()\n",
    "plt.show()\n"
   ]
  },
  {
   "cell_type": "markdown",
   "id": "731441bb-61fa-4c08-b76f-c157278fc300",
   "metadata": {},
   "source": [
    "As you can see, the average PM2.5 concentration at both measuring stations decreases year by year"
   ]
  },
  {
   "cell_type": "markdown",
   "id": "771a2c44-6fb2-4ab2-a5ed-cbf37786cd6a",
   "metadata": {},
   "source": [
    "We will now present the distribution of average PM2.5 concentration at all stations over the years 2010-2023"
   ]
  },
  {
   "cell_type": "code",
   "execution_count": null,
   "id": "c4c6decb-87d4-4d5a-bfff-eabe98eb415a",
   "metadata": {},
   "outputs": [],
   "source": [
    "df2 = df.loc[:, [\"Kod stacji\", \"Średnia\", \"Rok\"]] # We select the fields we are interested in\n",
    "plt.figure(figsize=(10, 50))\n",
    "sns.boxplot(x = \"Year\", y = \"Station Code\", data = df2)\n",
    "plt.title(\"Distribution of average PM2.5 concentration at all stations over the years 2010-2023\")\n",
    "plt.xlabel(\"Year\")\n",
    "plt.ylabel(\"Station\")\n",
    "plt.show()"
   ]
  },
  {
   "cell_type": "markdown",
   "id": "8dc50fc6-63c8-4308-ae45-01d792461833",
   "metadata": {},
   "source": [
    "As you can see, at most measuring stations in Poland, the average PM2.5 concentration in Poland has very large differences over the years"
   ]
  },
  {
   "cell_type": "markdown",
   "id": "bef225ba-2ae5-42ee-a0ce-193e6b7c69a4",
   "metadata": {},
   "source": [
    "We will now look at the number of PM2.5 exceedances according to WHO standards (25 µg/m³)"
   ]
  },
  {
   "cell_type": "code",
   "execution_count": null,
   "id": "efbbdb59-9848-4726-b7e0-581955345790",
   "metadata": {},
   "outputs": [],
   "source": [
    "df1 = df.loc[:, [\"Województwo\", \"Średnia\"]]\n",
    "\n",
    "# We change the format of Average to float\n",
    "tmp = df1[\"Średnia\"].to_numpy().astype(str)\n",
    "tmp = np.char.replace(tmp, ',', '.').astype(float)\n",
    "df1[\"Średnia\"] = tmp\n",
    "\n",
    "filtered_df = df1[df1[\"Średnia\"] > 25]\n",
    "filtered_df = filtered_df.groupby(\"Województwo\").count()\n",
    "\n",
    "filtered_df.loc[\"zachodniopomorskie\"] = 0\n",
    "filtered_df.loc[\"warmińsko-mazurskie\"] = 0\n",
    "\n",
    "filtered_df.plot(kind = \"bar\")\n",
    "\n",
    "plt.title(\"Number of WHO standard PM2.5 exceedances by voivodeship\")\n",
    "plt.xlabel(\"Voivodeship\")\n",
    "plt.ylabel(\"Number of exceedances\")\n",
    "plt.show()"
   ]
  },
  {
   "cell_type": "markdown",
   "id": "9b09346e-8f39-4f72-a4e4-2ddb2a2a20f7",
   "metadata": {},
   "source": [
    "As you can see, the number of WHO-standard PM2.5 exceedances is small in most voivodeships.\n",
    "Only the Małopolskie and Śląskie voivodeships stand out negatively"
   ]
  },
  {
   "cell_type": "code",
   "execution_count": null,
   "id": "84bed141-718a-4f5a-a54d-46aa4e058e01",
   "metadata": {},
   "outputs": [],
   "source": [
    "df = df[[\"Województwo\", \"Liczba pomiarów\"]]\n",
    "filtered_df2 = df.groupby(\"Województwo\").sum()\n",
    "\n",
    "joint_df = filtered_df.join(filtered_df2)\n",
    "\n",
    "joint_df = joint_df[\"Średnia\"] / joint_df[\"Liczba pomiarów\"] * 100\n",
    "\n",
    "joint_df.plot(kind = \"bar\")\n",
    "\n",
    "plt.title(\"Percentage of measurements exceeding WHO standards by voivodeship\")\n",
    "plt.xlabel(\"Voivodeship\")\n",
    "plt.ylabel(\"Percentage of measurements exceeding WHO standards\")\n",
    "plt.show()\n",
    "\n"
   ]
  },
  {
   "cell_type": "markdown",
   "id": "98299f4a-6c13-43bc-9443-14868a0cab0d",
   "metadata": {},
   "source": [
    "As you can see, there are very few average measurements that exceed WHO standards in the whole of Poland"
   ]
  }
 ],
 "metadata": {
  "kernelspec": {
   "display_name": "Python 3 (ipykernel)",
   "language": "python",
   "name": "python3"
  },
  "language_info": {
   "codemirror_mode": {
    "name": "ipython",
    "version": 3
   },
   "file_extension": ".py",
   "mimetype": "text/x-python",
   "name": "python",
   "nbconvert_exporter": "python",
   "pygments_lexer": "ipython3",
   "version": "3.12.8"
  }
 },
 "nbformat": 4,
 "nbformat_minor": 5
}
