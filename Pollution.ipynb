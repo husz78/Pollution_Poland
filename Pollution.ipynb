{
 "cells": [
  {
   "cell_type": "markdown",
   "id": "b91f9164-a59f-427c-9338-285659e17f54",
   "metadata": {},
   "source": [
    "# Wizualizacja poziomu zanieczyszczeń w Polsce"
   ]
  },
  {
   "cell_type": "code",
   "execution_count": null,
   "id": "05cf97e2-f0fb-4bc8-bc7c-04b5ee4e7672",
   "metadata": {},
   "outputs": [],
   "source": [
    "import pandas as pd\n",
    "import matplotlib.pyplot as plt\n",
    "import numpy as np\n",
    "import seaborn as sns"
   ]
  },
  {
   "cell_type": "code",
   "execution_count": null,
   "id": "fef5ab71-2264-4a4b-a2cd-7500cf98fecb",
   "metadata": {},
   "outputs": [],
   "source": [
    "df = pd.read_csv(\"Stats_2000-2023.csv\", header = 0, skiprows = [1], encoding=\"ansi\", delimiter=\";\")\n",
    "\n",
    "df = df.loc[df[\"Czas uśredniania\"] == \"24g\"] # Wybieramy tylko przedział pomiaru 24h\n",
    "df = df.loc[df[\"Rok\"] >= 2010] # Wybieramy tylko dane od 2010 roku\n"
   ]
  },
  {
   "cell_type": "markdown",
   "id": "5e4f09cc-788f-477c-8077-62f6b48572de",
   "metadata": {},
   "source": [
    "Chcemy wybrać dwie stacje, które mają dane dla każdego roku z przedziału [2010; 2023]"
   ]
  },
  {
   "cell_type": "code",
   "execution_count": null,
   "id": "00768552-8cb8-43f3-8da5-25e757515129",
   "metadata": {},
   "outputs": [],
   "source": [
    "# pv = pd.pivot_table(df, index = \"Kod stacji\", columns = \"Rok\", values = \"Wskaźnik\", aggfunc = \"count\")\n",
    "# pv"
   ]
  },
  {
   "cell_type": "markdown",
   "id": "6623eda9-83d3-4cf7-9d63-821fd1ecbe3e",
   "metadata": {},
   "source": [
    "Znaleźliśmy takie: \n",
    "- DsOsieczow21\n",
    "- DsWalbrzWyso"
   ]
  },
  {
   "cell_type": "code",
   "execution_count": null,
   "id": "0ae54e17-0177-4a82-801f-bd4ea5facb5a",
   "metadata": {},
   "outputs": [],
   "source": [
    "station1 = df[df[\"Kod stacji\"] == \"DsOsieczow21\"]\n",
    "station2 = df[df[\"Kod stacji\"] == \"DsWalbrzWyso\"]\n",
    "station1_measurement = station1.loc[:, \"Średnia\"].to_numpy().astype(str)\n",
    "station2_measurement = station2.loc[:, \"Średnia\"].to_numpy().astype(str)\n",
    "\n",
    "station1_measurement = np.char.replace(station1_measurement, ',', '.').astype(float)\n",
    "station2_measurement = np.char.replace(station2_measurement, ',', '.').astype(float)\n",
    "\n",
    "years = np.arange(start = 2010, stop = 2024)\n",
    "plt.plot(years, station1_measurement, label = \"DsOsieczow21\", color = \"blue\")\n",
    "plt.plot(years, station2_measurement, label = \"DsWalbrzWyso\", color = \"red\")\n",
    "\n",
    "plt.ylim(10, 30)\n",
    "plt.yticks(np.arange(10, 31, 2))\n",
    "\n",
    "plt.xlabel(\"Rok\")\n",
    "plt.ylabel(\"Średnie natężenie PM2.5 [µg/m3]\")\n",
    "plt.title(\"Średnie natężenie PM2.5 w dwóch stacjach na przestrzeni lat 2010-2023\")\n",
    "plt.legend()\n",
    "plt.show()\n"
   ]
  },
  {
   "cell_type": "markdown",
   "id": "731441bb-61fa-4c08-b76f-c157278fc300",
   "metadata": {},
   "source": [
    "Jak widać średnie natężenie PM2.5 w obydwu stacjach pomiarowych maleje z roku na rok"
   ]
  },
  {
   "cell_type": "markdown",
   "id": "771a2c44-6fb2-4ab2-a5ed-cbf37786cd6a",
   "metadata": {},
   "source": [
    "Przedstawimy teraz rozkład średniego natężenia PM2.5 we wszystkich stacjach na przestrzeni lat 2010-2023"
   ]
  },
  {
   "cell_type": "code",
   "execution_count": null,
   "id": "c4c6decb-87d4-4d5a-bfff-eabe98eb415a",
   "metadata": {},
   "outputs": [],
   "source": [
    "df2 = df.loc[:, [\"Kod stacji\", \"Średnia\", \"Rok\"]] # Wybieramy pola, które nas interesują\n",
    "plt.figure(figsize=(10, 50))\n",
    "sns.boxplot(x = \"Rok\", y = \"Kod stacji\", data = df2)\n",
    "plt.title(\"Rozkład średniego natężenia PM2.5 we wszystkich stacjach na przestrzeni lat 2010-2023\")\n",
    "plt.xlabel(\"Rok\")\n",
    "plt.ylabel(\"Stacja\")\n",
    "plt.show()"
   ]
  },
  {
   "cell_type": "markdown",
   "id": "8dc50fc6-63c8-4308-ae45-01d792461833",
   "metadata": {},
   "source": [
    "Jak widać, w większości stacji pomiarowych w Polsce średnie natężenie PM2.5 w Polsce ma bardzo duże różnice na przestrzeni lat"
   ]
  },
  {
   "cell_type": "markdown",
   "id": "bef225ba-2ae5-42ee-a0ce-193e6b7c69a4",
   "metadata": {},
   "source": [
    "Zajmiemy się teraz liczbą przekroczeń normy PM2.5 według normy WHO (25 µg/m³)"
   ]
  },
  {
   "cell_type": "code",
   "execution_count": null,
   "id": "efbbdb59-9848-4726-b7e0-581955345790",
   "metadata": {},
   "outputs": [],
   "source": [
    "df1 = df.loc[:, [\"Województwo\", \"Średnia\"]]\n",
    "\n",
    "# Zmieniamy format Średniej na float\n",
    "tmp = df1[\"Średnia\"].to_numpy().astype(str)\n",
    "tmp = np.char.replace(tmp, ',', '.').astype(float)\n",
    "df1[\"Średnia\"] = tmp\n",
    "\n",
    "filtered_df = df1[df1[\"Średnia\"] > 25]\n",
    "filtered_df = filtered_df.groupby(\"Województwo\").count()\n",
    "\n",
    "filtered_df.loc[\"zachodniopomorskie\"] = 0\n",
    "filtered_df.loc[\"warmińsko-mazurskie\"] = 0\n",
    "\n",
    "filtered_df.plot(kind = \"bar\")\n",
    "\n",
    "plt.title(\"Liczba przekroczeń normy WHO stężenia PM2.5 dla poszczególnych województw\")\n",
    "plt.xlabel(\"Województwo\")\n",
    "plt.ylabel(\"Liczba przekroczeń\")\n",
    "plt.show()"
   ]
  },
  {
   "cell_type": "markdown",
   "id": "9b09346e-8f39-4f72-a4e4-2ddb2a2a20f7",
   "metadata": {},
   "source": [
    "Jak widać liczba przekroczeń normy WHO średniego stężenia PM2.5 jest niewielka w większości województw.\n",
    "Wyróżniają się negatywnie jedynie województwa małopolskie oraz śląskie"
   ]
  },
  {
   "cell_type": "code",
   "execution_count": null,
   "id": "84bed141-718a-4f5a-a54d-46aa4e058e01",
   "metadata": {},
   "outputs": [],
   "source": [
    "df = df[[\"Województwo\", \"Liczba pomiarów\"]]\n",
    "filtered_df2 = df.groupby(\"Województwo\").sum()\n",
    "\n",
    "joint_df = filtered_df.join(filtered_df2)\n",
    "\n",
    "joint_df = joint_df[\"Średnia\"] / joint_df[\"Liczba pomiarów\"] * 100\n",
    "\n",
    "joint_df.plot(kind = \"bar\")\n",
    "\n",
    "plt.title(\"Procent pomiarów przekraczających normę WHO według województw\")\n",
    "plt.xlabel(\"Województwo\")\n",
    "plt.ylabel(\"Procent pomiarów przekraczających normę WHO\")\n",
    "plt.show()\n",
    "\n"
   ]
  },
  {
   "cell_type": "markdown",
   "id": "98299f4a-6c13-43bc-9443-14868a0cab0d",
   "metadata": {},
   "source": [
    "Jak widać pomiarów średnich, które przekraczają normę WHO jest bardzo niewiele w całej Polsce"
   ]
  }
 ],
 "metadata": {
  "kernelspec": {
   "display_name": "Python 3 (ipykernel)",
   "language": "python",
   "name": "python3"
  },
  "language_info": {
   "codemirror_mode": {
    "name": "ipython",
    "version": 3
   },
   "file_extension": ".py",
   "mimetype": "text/x-python",
   "name": "python",
   "nbconvert_exporter": "python",
   "pygments_lexer": "ipython3",
   "version": "3.12.8"
  }
 },
 "nbformat": 4,
 "nbformat_minor": 5
}
